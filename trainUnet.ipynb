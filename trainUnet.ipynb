{
 "cells": [
  {
   "cell_type": "code",
   "execution_count": 1,
   "metadata": {},
   "outputs": [
    {
     "name": "stderr",
     "output_type": "stream",
     "text": [
      "Using TensorFlow backend.\n"
     ]
    }
   ],
   "source": [
    "from model import *\n",
    "from data import *"
   ]
  },
  {
   "cell_type": "code",
   "execution_count": 73,
   "metadata": {},
   "outputs": [],
   "source": [
    "x_train = np.load(\"data/x_train.npy\")\n",
    "y_train = np.load(\"data/y_train.npy\")"
   ]
  },
  {
   "cell_type": "code",
   "execution_count": 3,
   "metadata": {},
   "outputs": [
    {
     "name": "stdout",
     "output_type": "stream",
     "text": [
      "WARNING:tensorflow:From /Users/shupan/anaconda3/lib/python3.6/site-packages/tensorflow/python/framework/op_def_library.py:263: colocate_with (from tensorflow.python.framework.ops) is deprecated and will be removed in a future version.\n",
      "Instructions for updating:\n",
      "Colocations handled automatically by placer.\n"
     ]
    }
   ],
   "source": [
    "model = unet(input_size = x_train[0].shape)"
   ]
  },
  {
   "cell_type": "code",
   "execution_count": 4,
   "metadata": {},
   "outputs": [
    {
     "name": "stdout",
     "output_type": "stream",
     "text": [
      "WARNING:tensorflow:From /Users/shupan/anaconda3/lib/python3.6/site-packages/tensorflow/python/ops/math_ops.py:3066: to_int32 (from tensorflow.python.ops.math_ops) is deprecated and will be removed in a future version.\n",
      "Instructions for updating:\n",
      "Use tf.cast instead.\n",
      "Train on 11200 samples, validate on 2800 samples\n",
      "Epoch 1/5\n",
      "11200/11200 [==============================] - 2737s 244ms/step - loss: 0.0472 - acc: 0.5330 - val_loss: 0.0119 - val_acc: 0.6839\n",
      "Epoch 2/5\n",
      "11200/11200 [==============================] - 2744s 245ms/step - loss: 0.0112 - acc: 0.7590 - val_loss: 0.0103 - val_acc: 0.7703\n",
      "Epoch 3/5\n",
      "11200/11200 [==============================] - 14857s 1s/step - loss: 0.0104 - acc: 0.7892 - val_loss: 0.0098 - val_acc: 0.7723\n",
      "Epoch 4/5\n",
      "11200/11200 [==============================] - 14283s 1s/step - loss: 0.0101 - acc: 0.8042 - val_loss: 0.0096 - val_acc: 0.7947\n",
      "Epoch 5/5\n",
      "11200/11200 [==============================] - 5106s 456ms/step - loss: 0.0100 - acc: 0.8132 - val_loss: 0.0095 - val_acc: 0.7988\n"
     ]
    },
    {
     "data": {
      "text/plain": [
       "<keras.callbacks.History at 0x1d3930df60>"
      ]
     },
     "execution_count": 4,
     "metadata": {},
     "output_type": "execute_result"
    }
   ],
   "source": [
    "model.fit(x_train, y_train, batch_size=200, epochs=5, verbose=1,validation_split=0.2, shuffle=True, callbacks=None)"
   ]
  },
  {
   "cell_type": "code",
   "execution_count": 74,
   "metadata": {},
   "outputs": [],
   "source": [
    "#model.save('UNet.h5')\n",
    "model2 = load_model('UNet.h5')"
   ]
  },
  {
   "cell_type": "code",
   "execution_count": 75,
   "metadata": {},
   "outputs": [],
   "source": [
    "import cv2 as cv\n",
    "test = cv.imread('test2.jpg')\n",
    "test = [test / 255]\n",
    "test = np.array(test)\n",
    "#test.shape"
   ]
  },
  {
   "cell_type": "code",
   "execution_count": 76,
   "metadata": {},
   "outputs": [
    {
     "data": {
      "text/plain": [
       "True"
      ]
     },
     "execution_count": 76,
     "metadata": {},
     "output_type": "execute_result"
    }
   ],
   "source": [
    "\n",
    "pred = model2.predict(test)\n",
    "pred = pred * 255\n",
    "pred = pred.astype(np.uint8)\n",
    "#test = test.astype(np.uint8)\n",
    "#cv.imwrite('test2.jpg',test[0])\n",
    "\n",
    "#pred = pred.astype(np.uint8)\n",
    "cv.imwrite('pred.jpg', pred[0])\n",
    "#pred"
   ]
  }
 ],
 "metadata": {
  "kernelspec": {
   "display_name": "Python 3",
   "language": "python",
   "name": "python3"
  },
  "language_info": {
   "codemirror_mode": {
    "name": "ipython",
    "version": 3
   },
   "file_extension": ".py",
   "mimetype": "text/x-python",
   "name": "python",
   "nbconvert_exporter": "python",
   "pygments_lexer": "ipython3",
   "version": "3.6.8"
  }
 },
 "nbformat": 4,
 "nbformat_minor": 2
}
